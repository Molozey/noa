{
 "cells": [
  {
   "cell_type": "markdown",
   "id": "9e5a9beb",
   "metadata": {},
   "source": [
    "# SABR and the volatility smile calibration\n",
    "#### Roland Grinis - MIPT & GrinisRIT"
   ]
  },
  {
   "cell_type": "markdown",
   "id": "e43763d9",
   "metadata": {},
   "source": [
    "This is a stochastic volatility model that describes the dynamics of the forward directly in the risk neutral measure:\n",
    "\n",
    "$$\n",
    "\\begin{split}\n",
    "\\text{d}f_t & =  \\sigma_t f_t^\\beta \\text{d}W_t^1   \\\\\n",
    "\\text{d}\\sigma_t & =  \\upsilon \\sigma_t \\left( \\rho \\text{d}W_t^1 + \\sqrt{1-\\rho^2} \\text{d}W_t^2 \\right) \n",
    "\\end{split}\n",
    "$$\n",
    "\n",
    "where $-1 < \\rho < 1$ is the vol correlation, $0 \\leq \\beta \\leq 1$ is the CIR exponent and the Wiener processes are independent."
   ]
  },
  {
   "cell_type": "code",
   "execution_count": 1,
   "id": "f5f2e87d",
   "metadata": {},
   "outputs": [],
   "source": [
    "import torch\n",
    "from torch.utils.cpp_extension import load\n",
    "import numpy as np\n",
    "import numba as nb\n",
    "from scipy.stats import norm\n",
    "import matplotlib.pyplot as plt\n",
    "plt.style.use(\"dark_background\")\n",
    "%matplotlib inline\n",
    "torch.manual_seed(987654);"
   ]
  },
  {
   "cell_type": "code",
   "execution_count": 3,
   "id": "72991997",
   "metadata": {},
   "outputs": [],
   "source": [
    "!mkdir -p build"
   ]
  },
  {
   "cell_type": "code",
   "execution_count": 8,
   "id": "ab49443a",
   "metadata": {},
   "outputs": [
    {
     "ename": "ImportError",
     "evalue": "DLL load failed while importing sabr: The specified module could not be found.",
     "output_type": "error",
     "traceback": [
      "\u001B[1;31m---------------------------------------------------------------------------\u001B[0m",
      "\u001B[1;31mImportError\u001B[0m                               Traceback (most recent call last)",
      "Input \u001B[1;32mIn [8]\u001B[0m, in \u001B[0;36m<cell line: 1>\u001B[1;34m()\u001B[0m\n\u001B[1;32m----> 1\u001B[0m sabr \u001B[38;5;241m=\u001B[39m \u001B[43mload\u001B[49m\u001B[43m(\u001B[49m\u001B[43mname\u001B[49m\u001B[38;5;241;43m=\u001B[39;49m\u001B[38;5;124;43m'\u001B[39;49m\u001B[38;5;124;43msabr\u001B[39;49m\u001B[38;5;124;43m'\u001B[39;49m\u001B[43m,\u001B[49m\n\u001B[0;32m      2\u001B[0m \u001B[43m             \u001B[49m\u001B[43mbuild_directory\u001B[49m\u001B[38;5;241;43m=\u001B[39;49m\u001B[38;5;124;43m'\u001B[39;49m\u001B[38;5;124;43m./build\u001B[39;49m\u001B[38;5;124;43m'\u001B[39;49m\u001B[43m,\u001B[49m\n\u001B[0;32m      3\u001B[0m \u001B[43m             \u001B[49m\u001B[43msources\u001B[49m\u001B[38;5;241;43m=\u001B[39;49m\u001B[43m[\u001B[49m\u001B[38;5;124;43m'\u001B[39;49m\u001B[38;5;124;43msabr.cc\u001B[39;49m\u001B[38;5;124;43m'\u001B[39;49m\u001B[43m]\u001B[49m\u001B[43m,\u001B[49m\n\u001B[0;32m      4\u001B[0m \u001B[43m             \u001B[49m\u001B[43mextra_cflags\u001B[49m\u001B[38;5;241;43m=\u001B[39;49m\u001B[43m[\u001B[49m\u001B[38;5;124;43m'\u001B[39;49m\u001B[38;5;124;43m-Wall -Wextra -Wpedantic -O3 -std=c++17\u001B[39;49m\u001B[38;5;124;43m'\u001B[39;49m\u001B[43m]\u001B[49m\u001B[43m,\u001B[49m\n\u001B[0;32m      5\u001B[0m \u001B[43m             \u001B[49m\u001B[43mverbose\u001B[49m\u001B[38;5;241;43m=\u001B[39;49m\u001B[38;5;28;43;01mFalse\u001B[39;49;00m\u001B[43m)\u001B[49m\n",
      "File \u001B[1;32md:\\code\\python\\noamrfendel\\venv\\lib\\site-packages\\torch\\utils\\cpp_extension.py:1144\u001B[0m, in \u001B[0;36mload\u001B[1;34m(name, sources, extra_cflags, extra_cuda_cflags, extra_ldflags, extra_include_paths, build_directory, verbose, with_cuda, is_python_module, is_standalone, keep_intermediates)\u001B[0m\n\u001B[0;32m   1053\u001B[0m \u001B[38;5;28;01mdef\u001B[39;00m \u001B[38;5;21mload\u001B[39m(name,\n\u001B[0;32m   1054\u001B[0m          sources: Union[\u001B[38;5;28mstr\u001B[39m, List[\u001B[38;5;28mstr\u001B[39m]],\n\u001B[0;32m   1055\u001B[0m          extra_cflags\u001B[38;5;241m=\u001B[39m\u001B[38;5;28;01mNone\u001B[39;00m,\n\u001B[1;32m   (...)\u001B[0m\n\u001B[0;32m   1063\u001B[0m          is_standalone\u001B[38;5;241m=\u001B[39m\u001B[38;5;28;01mFalse\u001B[39;00m,\n\u001B[0;32m   1064\u001B[0m          keep_intermediates\u001B[38;5;241m=\u001B[39m\u001B[38;5;28;01mTrue\u001B[39;00m):\n\u001B[0;32m   1065\u001B[0m     \u001B[38;5;124mr\u001B[39m\u001B[38;5;124;03m'''\u001B[39;00m\n\u001B[0;32m   1066\u001B[0m \u001B[38;5;124;03m    Loads a PyTorch C++ extension just-in-time (JIT).\u001B[39;00m\n\u001B[0;32m   1067\u001B[0m \n\u001B[1;32m   (...)\u001B[0m\n\u001B[0;32m   1142\u001B[0m \u001B[38;5;124;03m                verbose=True)\u001B[39;00m\n\u001B[0;32m   1143\u001B[0m \u001B[38;5;124;03m    '''\u001B[39;00m\n\u001B[1;32m-> 1144\u001B[0m     \u001B[38;5;28;01mreturn\u001B[39;00m \u001B[43m_jit_compile\u001B[49m\u001B[43m(\u001B[49m\n\u001B[0;32m   1145\u001B[0m \u001B[43m        \u001B[49m\u001B[43mname\u001B[49m\u001B[43m,\u001B[49m\n\u001B[0;32m   1146\u001B[0m \u001B[43m        \u001B[49m\u001B[43m[\u001B[49m\u001B[43msources\u001B[49m\u001B[43m]\u001B[49m\u001B[43m \u001B[49m\u001B[38;5;28;43;01mif\u001B[39;49;00m\u001B[43m \u001B[49m\u001B[38;5;28;43misinstance\u001B[39;49m\u001B[43m(\u001B[49m\u001B[43msources\u001B[49m\u001B[43m,\u001B[49m\u001B[43m \u001B[49m\u001B[38;5;28;43mstr\u001B[39;49m\u001B[43m)\u001B[49m\u001B[43m \u001B[49m\u001B[38;5;28;43;01melse\u001B[39;49;00m\u001B[43m \u001B[49m\u001B[43msources\u001B[49m\u001B[43m,\u001B[49m\n\u001B[0;32m   1147\u001B[0m \u001B[43m        \u001B[49m\u001B[43mextra_cflags\u001B[49m\u001B[43m,\u001B[49m\n\u001B[0;32m   1148\u001B[0m \u001B[43m        \u001B[49m\u001B[43mextra_cuda_cflags\u001B[49m\u001B[43m,\u001B[49m\n\u001B[0;32m   1149\u001B[0m \u001B[43m        \u001B[49m\u001B[43mextra_ldflags\u001B[49m\u001B[43m,\u001B[49m\n\u001B[0;32m   1150\u001B[0m \u001B[43m        \u001B[49m\u001B[43mextra_include_paths\u001B[49m\u001B[43m,\u001B[49m\n\u001B[0;32m   1151\u001B[0m \u001B[43m        \u001B[49m\u001B[43mbuild_directory\u001B[49m\u001B[43m \u001B[49m\u001B[38;5;129;43;01mor\u001B[39;49;00m\u001B[43m \u001B[49m\u001B[43m_get_build_directory\u001B[49m\u001B[43m(\u001B[49m\u001B[43mname\u001B[49m\u001B[43m,\u001B[49m\u001B[43m \u001B[49m\u001B[43mverbose\u001B[49m\u001B[43m)\u001B[49m\u001B[43m,\u001B[49m\n\u001B[0;32m   1152\u001B[0m \u001B[43m        \u001B[49m\u001B[43mverbose\u001B[49m\u001B[43m,\u001B[49m\n\u001B[0;32m   1153\u001B[0m \u001B[43m        \u001B[49m\u001B[43mwith_cuda\u001B[49m\u001B[43m,\u001B[49m\n\u001B[0;32m   1154\u001B[0m \u001B[43m        \u001B[49m\u001B[43mis_python_module\u001B[49m\u001B[43m,\u001B[49m\n\u001B[0;32m   1155\u001B[0m \u001B[43m        \u001B[49m\u001B[43mis_standalone\u001B[49m\u001B[43m,\u001B[49m\n\u001B[0;32m   1156\u001B[0m \u001B[43m        \u001B[49m\u001B[43mkeep_intermediates\u001B[49m\u001B[38;5;241;43m=\u001B[39;49m\u001B[43mkeep_intermediates\u001B[49m\u001B[43m)\u001B[49m\n",
      "File \u001B[1;32md:\\code\\python\\noamrfendel\\venv\\lib\\site-packages\\torch\\utils\\cpp_extension.py:1382\u001B[0m, in \u001B[0;36m_jit_compile\u001B[1;34m(name, sources, extra_cflags, extra_cuda_cflags, extra_ldflags, extra_include_paths, build_directory, verbose, with_cuda, is_python_module, is_standalone, keep_intermediates)\u001B[0m\n\u001B[0;32m   1379\u001B[0m \u001B[38;5;28;01mif\u001B[39;00m is_standalone:\n\u001B[0;32m   1380\u001B[0m     \u001B[38;5;28;01mreturn\u001B[39;00m _get_exec_path(name, build_directory)\n\u001B[1;32m-> 1382\u001B[0m \u001B[38;5;28;01mreturn\u001B[39;00m \u001B[43m_import_module_from_library\u001B[49m\u001B[43m(\u001B[49m\u001B[43mname\u001B[49m\u001B[43m,\u001B[49m\u001B[43m \u001B[49m\u001B[43mbuild_directory\u001B[49m\u001B[43m,\u001B[49m\u001B[43m \u001B[49m\u001B[43mis_python_module\u001B[49m\u001B[43m)\u001B[49m\n",
      "File \u001B[1;32md:\\code\\python\\noamrfendel\\venv\\lib\\site-packages\\torch\\utils\\cpp_extension.py:1775\u001B[0m, in \u001B[0;36m_import_module_from_library\u001B[1;34m(module_name, path, is_python_module)\u001B[0m\n\u001B[0;32m   1772\u001B[0m \u001B[38;5;28;01mif\u001B[39;00m is_python_module:\n\u001B[0;32m   1773\u001B[0m     \u001B[38;5;66;03m# https://stackoverflow.com/questions/67631/how-to-import-a-module-given-the-full-path\u001B[39;00m\n\u001B[0;32m   1774\u001B[0m     spec \u001B[38;5;241m=\u001B[39m importlib\u001B[38;5;241m.\u001B[39mutil\u001B[38;5;241m.\u001B[39mspec_from_file_location(module_name, filepath)\n\u001B[1;32m-> 1775\u001B[0m     module \u001B[38;5;241m=\u001B[39m \u001B[43mimportlib\u001B[49m\u001B[38;5;241;43m.\u001B[39;49m\u001B[43mutil\u001B[49m\u001B[38;5;241;43m.\u001B[39;49m\u001B[43mmodule_from_spec\u001B[49m\u001B[43m(\u001B[49m\u001B[43mspec\u001B[49m\u001B[43m)\u001B[49m\n\u001B[0;32m   1776\u001B[0m     \u001B[38;5;28;01massert\u001B[39;00m \u001B[38;5;28misinstance\u001B[39m(spec\u001B[38;5;241m.\u001B[39mloader, importlib\u001B[38;5;241m.\u001B[39mabc\u001B[38;5;241m.\u001B[39mLoader)\n\u001B[0;32m   1777\u001B[0m     spec\u001B[38;5;241m.\u001B[39mloader\u001B[38;5;241m.\u001B[39mexec_module(module)\n",
      "File \u001B[1;32m<frozen importlib._bootstrap>:571\u001B[0m, in \u001B[0;36mmodule_from_spec\u001B[1;34m(spec)\u001B[0m\n",
      "File \u001B[1;32m<frozen importlib._bootstrap_external>:1176\u001B[0m, in \u001B[0;36mcreate_module\u001B[1;34m(self, spec)\u001B[0m\n",
      "File \u001B[1;32m<frozen importlib._bootstrap>:241\u001B[0m, in \u001B[0;36m_call_with_frames_removed\u001B[1;34m(f, *args, **kwds)\u001B[0m\n",
      "\u001B[1;31mImportError\u001B[0m: DLL load failed while importing sabr: The specified module could not be found."
     ]
    }
   ],
   "source": [
    "sabr = load(name='sabr',\n",
    "             build_directory='./build',\n",
    "             sources=['sabr.cc'],\n",
    "             extra_cflags=['-Wall -Wextra -Wpedantic -O3 -std=c++17'],\n",
    "             verbose=False)"
   ]
  },
  {
   "cell_type": "code",
   "execution_count": 5,
   "id": "5054fc87",
   "metadata": {},
   "outputs": [],
   "source": [
    "a = torch.randn(5, dtype=torch.float64)"
   ]
  },
  {
   "cell_type": "code",
   "execution_count": 6,
   "id": "b6f7506e",
   "metadata": {},
   "outputs": [
    {
     "ename": "NameError",
     "evalue": "name 'sabr' is not defined",
     "output_type": "error",
     "traceback": [
      "\u001B[1;31m---------------------------------------------------------------------------\u001B[0m",
      "\u001B[1;31mNameError\u001B[0m                                 Traceback (most recent call last)",
      "Input \u001B[1;32mIn [6]\u001B[0m, in \u001B[0;36m<cell line: 1>\u001B[1;34m()\u001B[0m\n\u001B[1;32m----> 1\u001B[0m \u001B[43msabr\u001B[49m\u001B[38;5;241m.\u001B[39mtest(a)\n",
      "\u001B[1;31mNameError\u001B[0m: name 'sabr' is not defined"
     ]
    }
   ],
   "source": [
    "sabr.test(a)"
   ]
  },
  {
   "cell_type": "markdown",
   "id": "6b58dc9f",
   "metadata": {},
   "source": [
    "## 1. Implied Volatility\n",
    "\n",
    "##### CDF Approximation\n",
    "Zelen & Severo approximation for the standard normal CDF $\\text{N}(x) = \\frac{1}{\\sqrt{2\\pi}}\\int^x_{-\\infty} \\text{d}z \\exp(-z^2/2)$ is given by: \n",
    "$$\n",
    "\\text{N}(x) = 1 - \\text{N}'(x) \\sum_{i=1}^{5} b_i t^i + \\epsilon (x)\n",
    "$$\n",
    "where $t = (1 + b_0 x)^{-1}$, the error is bounded by $|\\epsilon (x)| < 7.5 \\cdot 10^{-8}$ and the coefficients $b_i$ are fixed (see implementation).\n",
    "\n",
    "```cpp\n",
    "inline const double b0 = 0.2316419;\n",
    "inline const double b1 = 0.319381530;\n",
    "inline const double b2 = -0.356563782;\n",
    "inline const double b3 = 1.781477937;\n",
    "inline const double b4 = -1.821255978;\n",
    "inline const double b5 = 1.330274429;\n",
    "```\n"
   ]
  },
  {
   "cell_type": "code",
   "source": [
    "@nb.njit()\n",
    "def cdf(x):\n",
    "    t = 1 / (1 + 0.2316419*abs(x))\n",
    "    summ = 0.319381530*t - 0.356563782*t**2 + 1.781477937*t**3 - 1.821255978*t**4 + 1.330274429*t**5\n",
    "    if x >= 0:\n",
    "        return 1 - summ * np.exp(-abs(x)**2 / 2) / np.sqrt(2*np.pi)\n",
    "    else:\n",
    "        return summ * np.exp(-abs(x)**2 / 2) / np.sqrt(2*np.pi)\n",
    "\n",
    "x = np.linspace(-15, 15, 100)\n",
    "N0 = norm.cdf(x)\n",
    "N1 = tuple(map(cdf, x))\n",
    "\n",
    "plt.style.use('dark_background')\n",
    "plt.figure(figsize=(10,6))\n",
    "plt.plot(x, N0 - np.array(N1))\n",
    "plt.title('Approximation Error')\n",
    "plt.show()\n",
    "\n",
    "plt.plot(x, N1)"
   ],
   "metadata": {
    "collapsed": false,
    "pycharm": {
     "name": "#%%\n"
    }
   },
   "execution_count": 4,
   "outputs": [
    {
     "data": {
      "text/plain": "<Figure size 720x432 with 1 Axes>",
      "image/png": "[encoded data removed]"
     },
     "metadata": {},
     "output_type": "display_data"
    },
    {
     "data": {
      "text/plain": "[<matplotlib.lines.Line2D at 0x1aa2b2cc220>]"
     },
     "execution_count": 4,
     "metadata": {},
     "output_type": "execute_result"
    },
    {
     "data": {
      "text/plain": "<Figure size 432x288 with 1 Axes>",
      "image/png": "[encoded data removed]"
     },
     "metadata": {},
     "output_type": "display_data"
    }
   ]
  },
  {
   "cell_type": "markdown",
   "source": [
    "##### Newton-Raphson\n",
    "\n",
    "$$\n",
    "g\\left(\\sigma_{\\text {imp }}\\right)=V^{m k t}(K, T)-V\\left(t_0=0, S_0 ; K, T, \\sigma_{\\text {imp }}, r\\right)=0 .\n",
    "$$\n",
    "\n",
    "Given an initial guess for the implied volatility, i.e. $\\sigma_{\\text {imp }}^{(0)}$, we can find the next approximations, $\\sigma_{\\text {imp }}^{(k)}, k=1,2, \\ldots$, by means of the Newton-Raphson iterative algorythm, as follows\n",
    "\n",
    "$$\n",
    "\\sigma_{\\text {imp }}^{(k+1)}=\\sigma_{\\text {imp }}^{(k)}-\\frac{g\\left(\\sigma_{\\text {imp }}^{(k)}\\right)}{g^{\\prime}\\left(\\sigma_{\\text {imp }}^{(k)}\\right)}, \\text { for } k \\geq 0 .\n",
    "$$"
   ],
   "metadata": {
    "collapsed": false
   }
  },
  {
   "cell_type": "markdown",
   "source": [
    "\n",
    "##### Combined Algorithm (Newton-Raphson + Bisection):\n",
    "\n",
    "Determine initial interval $\\left[\\sigma_{\\text {imp }}^l, \\sigma_{\\text {imp }}^r\\right]$\n",
    "If $g\\left(\\sigma_{imp}^l\\right) \\cdot g\\left(\\sigma_{imp}^r\\right)>0$ stop (there is no zero in the interval)\n",
    "\n",
    "Else: $\\delta=-\\frac{g\\left(\\sigma_{imp}^{(k)}\\right)} {g^{\\prime}\\left(\\sigma_{imp}^{(k)}\\right)}$;\n",
    "      $ \\sigma_{imp}^{(0)} = \\frac{1}{2} (\\sigma_{imp}^l + \\sigma_{imp}^r)$\n",
    "\n",
    "While $\\delta / \\sigma_{imp}^{(k)}>$ tolerance:\n",
    "\n",
    "$$\n",
    "\\sigma_{imp}^{(k+1)}=\\sigma_{imp}^{(k)}+\\delta \\\\\n",
    "\\text { if } \\sigma_{imp}^{(k+1)} \\notin\\left[\\sigma_{imp}^l, \\sigma_{imp}^r\\right]: \\\\\n",
    "\n",
    "\\quad \\text { if } g\\left(\\sigma_{imp}^l\\right) \\cdot g\\left(\\sigma_{imp}^{(k+1)}\\right)>0 \\text {, then } \\sigma_{imp}^l=\\sigma_{imp}^{(k)} \\\\\n",
    "\\quad \\text { if } g\\left(\\sigma_{imp}^l\\right) \\cdot g\\left(\\sigma_{imp}^{(k+1)}\\right)<0 \\text {, then } \\sigma_{imp}^r=\\sigma_{imp}^{(k)} \\\\\n",
    "\\quad \\sigma_{imp}^{(k+1)}=\\left(\\sigma_{imp}^l+\\sigma_{imp}^r\\right) / 2 \\\\\n",
    "\\delta=-g\\left(\\sigma_{imp}^{(k+1)}\\right) / g^{\\prime}\\left(\\sigma_{imp}^{(k+1)}\\right) \\\\\n",
    "$$"
   ],
   "metadata": {
    "collapsed": false
   }
  },
  {
   "cell_type": "code",
   "execution_count": 13,
   "outputs": [],
   "source": [
    "@nb.njit()\n",
    "def g(sigma, V_mkt, dt, s0, K, r, call=True):\n",
    "    d1 = (np.log(s0/K) + (r + sigma**2/2)*dt) / (sigma*np.sqrt(dt))\n",
    "    d2 = d1 - sigma * np.sqrt(dt)\n",
    "    p = 1 if call else -1\n",
    "    # V = p*s0*norm.cdf(p*d1, 0,1) - p*K*np.exp(-r*dt)*norm.cdf(p*d2, 0,1)\n",
    "    V = p*s0*cdf(p*d1) - p*K*np.exp(-r*dt)*cdf(p*d2)\n",
    "    return V_mkt - V\n",
    "\n",
    "\n",
    "@nb.njit()\n",
    "def g_prime(sigma, dt, s0, K, r):\n",
    "    dist = (np.log(s0/K) + (r - sigma**2/2)*dt) / (sigma*dt)\n",
    "    return -K*np.exp(-r*dt) * np.sqrt(dt) * np.exp(-dist**2 / 2) / np.sqrt(2*np.pi)\n",
    "\n",
    "@nb.njit()\n",
    "def root_finder(V_mkt, dt, s0, K, r, call=True, tol=10**-8, sigma_l=10**-8, sigma_r=1):\n",
    "    if g(sigma_l, V_mkt, dt, s0, K, r, call)*g(sigma_r, V_mkt, dt, s0, K, r, call) > 0:\n",
    "        print('no zero at the initial interval')\n",
    "    else:\n",
    "        sigma = (sigma_l + sigma_r) / 2\n",
    "        shift = - g(sigma, V_mkt, dt, s0, K, r, call) / g_prime(sigma, dt, s0, K, r)\n",
    "\n",
    "        while shift / sigma > tol:\n",
    "            sigma = sigma + shift\n",
    "            if sigma > sigma_r or sigma < sigma_l:\n",
    "                if g(sigma_l, V_mkt, dt, s0, K, r, call)*g(sigma, V_mkt, dt, s0, K, r, call) > 0:\n",
    "                    sigma_l = sigma\n",
    "                else:\n",
    "                    sigma_r = sigma\n",
    "\n",
    "                sigma = (sigma_l + sigma_r) / 2\n",
    "\n",
    "            shift = - g(sigma, V_mkt, dt, s0, K, r, call) / g_prime(sigma, dt, s0, K, r)\n",
    "        return sigma"
   ],
   "metadata": {
    "collapsed": false,
    "pycharm": {
     "name": "#%%\n"
    }
   }
  },
  {
   "cell_type": "code",
   "execution_count": 14,
   "outputs": [
    {
     "data": {
      "text/plain": "0.5136388807425428"
     },
     "execution_count": 14,
     "metadata": {},
     "output_type": "execute_result"
    }
   ],
   "source": [
    "root_finder(10, 1, 100, 150, 0.1)"
   ],
   "metadata": {
    "collapsed": false,
    "pycharm": {
     "name": "#%%\n"
    }
   }
  },
  {
   "cell_type": "markdown",
   "source": [
    "### References\n",
    "* Hagan, P. S. et al. *Implied volatility formulas for Heston models.* Wilmott 2018.98 (2018)\n",
    "* Bartlett, B. *Hedging Under SABR Model.* Wilmott Magazine, (2006)\n",
    "* Oblój, J. *Fine-Tune Your Smile: Correction to Hagan et al*. preprint arXiv:0708.0998 (2007)\n",
    "* Paulot, L. *Asymptotic implied volatility at the second order with application to the SABR model.* In Large Deviations and Asymptotic Methods in Finance (pp. 37-69). Springer, Cham. (2015)\n",
    "* Henry-Labordère, P. *A general asymptotic implied volatility for stochastic volatility\n",
    "models.* http://arxiv.org/abs/cond-mat/0504317 (2005)"
   ],
   "metadata": {
    "collapsed": false
   }
  }
 ],
 "metadata": {
  "kernelspec": {
   "display_name": "Python 3 (ipykernel)",
   "language": "python",
   "name": "python3"
  },
  "language_info": {
   "codemirror_mode": {
    "name": "ipython",
    "version": 3
   },
   "file_extension": ".py",
   "mimetype": "text/x-python",
   "name": "python",
   "nbconvert_exporter": "python",
   "pygments_lexer": "ipython3",
   "version": "3.9.13"
  }
 },
 "nbformat": 4,
 "nbformat_minor": 5
}