{
 "cells": [
  {
   "cell_type": "markdown",
   "metadata": {
    "collapsed": true,
    "pycharm": {
     "name": "#%% md\n"
    }
   },
   "source": [
    "## Levenberg-Marquardt algorithm\n",
    "\n",
    "The Levenberg-Marquardt algorithm combines two numerical minimization algorithms: the gradient descent method and the\n",
    "Gauss-Newton method. In the gradient descent method, the sum of the squared errors is reduced by updating the parameters in the steepest-descent direction. In the\n",
    "Gauss-Newton method, the sum of the squared errors is reduced by assuming the least\n",
    "squares function is locally quadratic in the parameters, and finding the minimum of\n",
    "this quadratic. The Levenberg-Marquardt method acts more like a gradient-descent\n",
    "method when the parameters are far from their optimal value, and acts more like the\n",
    "Gauss-Newton method when the parameters are close to their optimal value.\n",
    "\n",
    "[\"The Levenberg-Marquardt algorithm for\n",
    "nonlinear least squares curve-fitting problems\" Henri P. Gavin 2022](https://people.duke.edu/~hpgavin/ExperimentalSystems/lm.pdf)"
   ]
  },
  {
   "cell_type": "markdown",
   "source": [
    "##### Levenberg-Marquardt\n",
    "\n",
    "$$\n",
    "\\chi^2(\\boldsymbol{\\theta}) =(\\boldsymbol{\\sigma}-\\hat{\\boldsymbol{\\sigma}}(\\boldsymbol{\\theta}))^{\\top} \\boldsymbol{W}(\\boldsymbol{\\sigma}-\\hat{\\boldsymbol{\\sigma}}(\\boldsymbol{\\theta}));\n",
    "$$\n",
    "\n",
    "$$ W_{ii} = \\frac{1}{w_i^2}, \\quad \\sigma = [\\sigma_i], \\quad \\hat{\\sigma} = [\\hat{\\sigma_i}] $$\n",
    "\n",
    "##### Gradient descent\n",
    "\n",
    "$$\n",
    "\\begin{aligned}\n",
    "\\frac{\\partial}{\\partial \\boldsymbol{\\theta}} \\chi^2 & =-2(\\boldsymbol{\\sigma}-\\hat{\\boldsymbol{\\sigma}})^{\\top} \\boldsymbol{W} \\boldsymbol{J}; \\quad \\boldsymbol{J} = \\left[\\frac{\\partial \\hat{\\boldsymbol{y}}(\\boldsymbol{p})}{\\partial \\boldsymbol{p}}\\right]\n",
    "\\end{aligned}\n",
    "$$\n",
    "\n",
    "$$ \\text{step: } h_g = \\lambda \\boldsymbol{J}^T \\boldsymbol{W} (\\boldsymbol{\\sigma}-\\hat{\\boldsymbol{\\sigma}}); \\quad \\lambda > 0 \\text{ - learning rate} $$\n",
    "\n",
    "##### Gauss-Newton Method  $ \\quad |h| << 1 $\n",
    "\n",
    "$$\\hat{\\boldsymbol{\\sigma}}(\\boldsymbol{\\theta}+\\boldsymbol{h}) \\approx \\hat{\\boldsymbol{\\sigma}}(\\boldsymbol{\\theta})+\\boldsymbol{J} \\boldsymbol{h} \\quad \\rightarrow \\quad \\chi^2(\\boldsymbol{\\theta}+\\boldsymbol{h}) \\approx \\boldsymbol{\\sigma}^{\\top} \\boldsymbol{W} \\boldsymbol{\\sigma}+\\hat{\\boldsymbol{\\sigma}}^{\\top} \\boldsymbol{W} \\hat{\\boldsymbol{\\sigma}}-2 \\boldsymbol{\\sigma}^{\\top} \\boldsymbol{W} \\hat{\\boldsymbol{\\sigma}}-2(\\boldsymbol{\\sigma}-\\hat{\\boldsymbol{\\sigma}})^{\\top} \\boldsymbol{W} \\boldsymbol{J} \\boldsymbol{h}+\\boldsymbol{h}^{\\top} \\boldsymbol{J}^{\\top} \\boldsymbol{W} \\boldsymbol{J} \\boldsymbol{h} $$\n",
    "\n",
    "$$\n",
    "\\rightarrow \\frac{\\partial}{\\partial \\boldsymbol{h}} \\chi^2(\\boldsymbol{\\theta}+\\boldsymbol{h}) \\approx-2(\\boldsymbol{\\sigma}-\\hat{\\boldsymbol{\\sigma}})^{\\top} \\boldsymbol{W} \\boldsymbol{J}+2 \\boldsymbol{h}^{\\top} \\boldsymbol{J}^{\\top} \\boldsymbol{W} \\boldsymbol{J}\n",
    "$$\n",
    "\n",
    "$$\n",
    "\\text{optimal step: } \\left[\\boldsymbol{J}^{\\top} \\boldsymbol{W} \\boldsymbol{J}\\right] \\boldsymbol{h}_{\\mathrm{gn}}=\\boldsymbol{J}^{\\top} \\boldsymbol{W}(\\boldsymbol{\\sigma}-\\hat{\\boldsymbol{\\sigma}})\n",
    "$$"
   ],
   "metadata": {
    "collapsed": false,
    "pycharm": {
     "name": "#%% md\n"
    }
   }
  },
  {
   "cell_type": "markdown",
   "source": [
    "##### Levenberg Equation\n",
    "\n",
    "$$\n",
    "\\left[\\boldsymbol{J}^{\\top} \\boldsymbol{W} \\boldsymbol{J}+\\lambda \\boldsymbol{I}\\right] \\boldsymbol{h}_{\\mathrm{lm}}=\\boldsymbol{J}^{\\top} \\boldsymbol{W}(\\boldsymbol{\\sigma}-\\hat{\\boldsymbol{\\sigma}})\n",
    "$$\n",
    "\n",
    "##### Levenberg-Marquardt equation\n",
    "\n",
    "$$\n",
    "\\left[\\boldsymbol{J}^{\\top} \\boldsymbol{W} \\boldsymbol{J}+\\lambda \\operatorname{diag}\\left(\\boldsymbol{J}^{\\top} \\boldsymbol{W} \\boldsymbol{J}\\right)\\right] \\boldsymbol{h}_{\\mathrm{Im}}=\\boldsymbol{J}^{\\top} \\boldsymbol{W}(\\boldsymbol{y}-\\hat{\\boldsymbol{y}})\n",
    "$$"
   ],
   "metadata": {
    "collapsed": false,
    "pycharm": {
     "name": "#%% md\n"
    }
   }
  },
  {
   "cell_type": "markdown",
   "source": [
    "##### Improvement metric\n",
    "\n",
    "$$\n",
    "\\mu\\left(\\boldsymbol{h}_{\\mathrm{lm}}\\right)=\\frac{\\chi^2(\\boldsymbol{\\theta})-\\chi^2\\left(\\boldsymbol{\\theta}+\\boldsymbol{h}_{\\mathrm{lm}}\\right)}{(\\boldsymbol{\\sigma}-\\hat{\\boldsymbol{\\sigma}})^{\\top} \\boldsymbol{W}(\\boldsymbol{\\sigma}-\\hat{\\boldsymbol{\\sigma}})-\\left(\\boldsymbol{\\sigma}-\\hat{\\boldsymbol{\\sigma}}-\\boldsymbol{J} \\boldsymbol{h}_{\\mathrm{lm}}\\right)^{\\top} \\boldsymbol{W}\\left(\\boldsymbol{\\sigma}-\\hat{\\boldsymbol{\\sigma}}-\\boldsymbol{J} \\boldsymbol{h}_{\\mathrm{lm}}\\right)}\n",
    "$$\n",
    "\n",
    "$$\n",
    "\\mu << 1 \\quad \\rightarrow \\quad \\text{Gradient descent mode} \\quad (\\boldsymbol{\\lambda} \\text{ - is increasing})\n",
    "$$\n",
    "\n",
    "$$\n",
    "\\mu >> 1 \\quad \\rightarrow \\quad \\text{Gauss-Newton mode } \\quad (\\boldsymbol{\\lambda} \\text{ - is decreasing})\n",
    "$$\n",
    "\n",
    "$$\n",
    "\\boldsymbol{\\mu}_{\\lambda}(\\boldsymbol{h}_{\\mathrm{lm}}) = \\frac{\\chi^2(\\boldsymbol{\\theta})-\\chi^2\\left(\\boldsymbol{\\theta}+\\boldsymbol{h}_{\\mathrm{lm}}\\right)}{\\boldsymbol{h}_{\\mathrm{lm}}^{\\top}\\left(\\lambda \\operatorname{diag}\\left(\\boldsymbol{J}^{\\top} \\boldsymbol{W} J\\right) \\boldsymbol{h}_{\\mathrm{lm}}+\\boldsymbol{J}^{\\top} \\boldsymbol{W}(\\boldsymbol{\\sigma}-\\hat{\\boldsymbol{\\sigma}}(\\boldsymbol{\\theta}))\\right)}\n",
    "$$\n",
    "\n",
    "##### Step procedure\n",
    "\n",
    "$$ \\boldsymbol{\\lambda} = 10^{-2}  \\quad \\quad \\boldsymbol{L} \\downarrow = 9 \\quad \\quad \\boldsymbol{L} \\uparrow = 11 \\quad \\quad \\boldsymbol{\\epsilon} = 10^{-1} $$\n",
    "\n",
    "$$ \\text{solve the L-M equation with  } \\boldsymbol{\\lambda} \\quad \\rightarrow \\quad \\boldsymbol{h}_{\\mathrm{lm}} $$\n",
    "\n",
    "$$\n",
    "\\begin{aligned}\n",
    "& \\text{if } \\quad \\boldsymbol{N}_{\\lambda} (\\boldsymbol{h}_{\\mathrm{lm}}) > \\boldsymbol{\\epsilon}: \\\\\n",
    "& \\quad \\quad \\boldsymbol{\\theta} = \\boldsymbol{\\theta} + \\boldsymbol{h}_{\\mathrm{lm}} \\\\\n",
    "& \\quad \\quad \\boldsymbol{\\lambda} = \\max (\\frac{\\lambda}{L \\uparrow}, 10^{-7}) \\\\\n",
    "& \\text{else: } \\\\\n",
    "&  \\quad \\quad \\boldsymbol{\\lambda} = \\min (\\lambda L \\uparrow , 10^{7})\n",
    "\\end{aligned}\n",
    "$$"
   ],
   "metadata": {
    "collapsed": false,
    "pycharm": {
     "name": "#%% md\n"
    }
   }
  },
  {
   "cell_type": "markdown",
   "source": [
    "##### Convergence Criteria\n",
    "\n",
    "- Gradient convergence: $\\max \\left|\\boldsymbol{J}^{\\top} \\boldsymbol{W}(\\boldsymbol{y}-\\hat{\\boldsymbol{y}})\\right|< 10^{-3}$;\n",
    "- Parameters convergence: $\\max \\left|h_i / p_i\\right|<10^{-3} ;$ or\n",
    "- Convergence in $\\chi^2:$ uses the value of the reduced $\\chi^2, \\chi_\\nu^2=\\chi^2 /(m-n+1)<10^{-1}$.  (where $n$ - sample size, $m$ - param. dimension)\n",
    "\n",
    "##### Error analysis\n",
    "\n",
    "$$ \\chi_\\nu^2 >> 1 \\text{ - poor fit };  \\quad \\chi_\\nu^2 \\approx 1 \\text{ - fit error of sme order as measurement error }; \\quad \\chi_\\nu^2 << 1 \\text{ - overfit }; $$\n",
    "\n",
    "$$ \\text{parameters covariance: } (\\boldsymbol{J}^{\\top} \\boldsymbol{W} \\boldsymbol{J})^{-1} $$"
   ],
   "metadata": {
    "collapsed": false,
    "pycharm": {
     "name": "#%% md\n"
    }
   }
  }
 ],
 "metadata": {
  "kernelspec": {
   "display_name": "Python 3",
   "language": "python",
   "name": "python3"
  },
  "language_info": {
   "codemirror_mode": {
    "name": "ipython",
    "version": 2
   },
   "file_extension": ".py",
   "mimetype": "text/x-python",
   "name": "python",
   "nbconvert_exporter": "python",
   "pygments_lexer": "ipython2",
   "version": "2.7.6"
  }
 },
 "nbformat": 4,
 "nbformat_minor": 0
}